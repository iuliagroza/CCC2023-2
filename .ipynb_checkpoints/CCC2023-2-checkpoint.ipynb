{
 "cells": [
  {
   "cell_type": "markdown",
   "id": "5ecd063f",
   "metadata": {},
   "source": [
    "### Task 1"
   ]
  },
  {
   "cell_type": "code",
   "execution_count": null,
   "id": "da55712a",
   "metadata": {},
   "outputs": [],
   "source": [
    "import pandas as pd\n",
    "\n",
    "# Load the training labels\n",
    "train_labels = pd.read_csv(\"/mnt/data/train_data_labels.csv\", header=None)\n",
    "train_labels.columns = ['label']\n",
    "\n",
    "# Display the first few rows\n",
    "train_labels.head()"
   ]
  },
  {
   "cell_type": "code",
   "execution_count": null,
   "id": "c98cd697",
   "metadata": {},
   "outputs": [],
   "source": [
    "import zipfile\n",
    "import os\n",
    "\n",
    "# Directories to unzip the data to\n",
    "train_dir = \"/mnt/data/train_data\"\n",
    "test_dir = \"/mnt/data/test_data\"\n",
    "\n",
    "# Create directories\n",
    "os.makedirs(train_dir, exist_ok=True)\n",
    "os.makedirs(test_dir, exist_ok=True)\n",
    "\n",
    "# Unzip the training and test images\n",
    "with zipfile.ZipFile(\"/mnt/data/train_data.zip\", 'r') as zip_ref:\n",
    "    zip_ref.extractall(train_dir)\n",
    "    \n",
    "with zipfile.ZipFile(\"/mnt/data/test_data.zip\", 'r') as zip_ref:\n",
    "    zip_ref.extractall(test_dir)\n",
    "\n",
    "# Check the number of files in each directory\n",
    "train_files = os.listdir(train_dir)\n",
    "test_files = os.listdir(test_dir)\n",
    "\n",
    "len(train_files), len(test_files)"
   ]
  },
  {
   "cell_type": "code",
   "execution_count": null,
   "id": "68b1c609",
   "metadata": {},
   "outputs": [],
   "source": [
    "# Inspecting the contents of the train and test directories\n",
    "os.listdir(train_dir), os.listdir(test_dir)"
   ]
  },
  {
   "cell_type": "code",
   "execution_count": null,
   "id": "3680c25c",
   "metadata": {},
   "outputs": [],
   "source": [
    "# Inspect the contents of the train_data and test_data subdirectories\n",
    "train_subdir_files = os.listdir(os.path.join(train_dir, \"train_data\"))\n",
    "test_subdir_files = os.listdir(os.path.join(test_dir, \"test_data\"))\n",
    "\n",
    "len(train_subdir_files), len(test_subdir_files)"
   ]
  },
  {
   "cell_type": "code",
   "execution_count": null,
   "id": "2929af68",
   "metadata": {},
   "outputs": [],
   "source": [
    "import numpy as np\n",
    "import tensorflow as tf\n",
    "from tensorflow.keras.preprocessing import image\n",
    "\n",
    "# Load and preprocess images\n",
    "def load_and_preprocess_images(file_paths, target_size=(200, 200)):\n",
    "    images = []\n",
    "    for file_path in file_paths:\n",
    "        img = image.load_img(file_path, target_size=target_size)\n",
    "        img_array = image.img_to_array(img)\n",
    "        images.append(img_array)\n",
    "    return np.array(images) / 255.0  # Normalize to [0, 1]\n",
    "\n",
    "# Load training images\n",
    "train_image_paths = [os.path.join(train_dir, \"train_data\", file_name) for file_name in sorted(train_subdir_files)]\n",
    "train_images = load_and_preprocess_images(train_image_paths)\n",
    "\n",
    "# Load test images\n",
    "test_image_paths = [os.path.join(test_dir, \"test_data\", file_name) for file_name in sorted(test_subdir_files)]\n",
    "test_images = load_and_preprocess_images(test_image_paths)\n",
    "\n",
    "train_images.shape, test_images.shape"
   ]
  },
  {
   "cell_type": "code",
   "execution_count": null,
   "id": "fea491a0",
   "metadata": {},
   "outputs": [],
   "source": [
    "from PIL import Image\n",
    "\n",
    "def load_and_preprocess_images_pil(file_paths, target_size=(200, 200)):\n",
    "    images = []\n",
    "    for file_path in file_paths:\n",
    "        with Image.open(file_path) as img:\n",
    "            img = img.resize(target_size)\n",
    "            img_array = np.array(img)\n",
    "            images.append(img_array)\n",
    "    return np.array(images) / 255.0  # Normalize to [0, 1]\n",
    "\n",
    "# Load training images\n",
    "train_images = load_and_preprocess_images_pil(train_image_paths)\n",
    "\n",
    "# Load test images\n",
    "test_images = load_and_preprocess_images_pil(test_image_paths)\n",
    "\n",
    "train_images.shape, test_images.shape"
   ]
  },
  {
   "cell_type": "markdown",
   "id": "80a3dc52",
   "metadata": {},
   "source": [
    "### Task 2"
   ]
  },
  {
   "cell_type": "code",
   "execution_count": null,
   "id": "bc221810",
   "metadata": {},
   "outputs": [],
   "source": []
  },
  {
   "cell_type": "markdown",
   "id": "aa538fa6",
   "metadata": {},
   "source": [
    "### Task 3"
   ]
  },
  {
   "cell_type": "code",
   "execution_count": null,
   "id": "431d6626",
   "metadata": {},
   "outputs": [],
   "source": []
  },
  {
   "cell_type": "markdown",
   "id": "dba992e8",
   "metadata": {},
   "source": [
    "### Task 4"
   ]
  },
  {
   "cell_type": "code",
   "execution_count": null,
   "id": "c9444f16",
   "metadata": {},
   "outputs": [],
   "source": []
  },
  {
   "cell_type": "markdown",
   "id": "83fbf71a",
   "metadata": {},
   "source": [
    "### Task 5"
   ]
  },
  {
   "cell_type": "code",
   "execution_count": null,
   "id": "90a2d906",
   "metadata": {},
   "outputs": [],
   "source": []
  },
  {
   "cell_type": "markdown",
   "id": "fc250a0c",
   "metadata": {},
   "source": [
    "### Task 6"
   ]
  },
  {
   "cell_type": "code",
   "execution_count": null,
   "id": "36353ad3",
   "metadata": {},
   "outputs": [],
   "source": []
  },
  {
   "cell_type": "markdown",
   "id": "9c165e75",
   "metadata": {},
   "source": [
    "### Task 7"
   ]
  },
  {
   "cell_type": "code",
   "execution_count": null,
   "id": "749e287e",
   "metadata": {},
   "outputs": [],
   "source": []
  },
  {
   "cell_type": "markdown",
   "id": "c174abbb",
   "metadata": {},
   "source": [
    "### Task 8"
   ]
  },
  {
   "cell_type": "code",
   "execution_count": null,
   "id": "876ab55f",
   "metadata": {},
   "outputs": [],
   "source": []
  },
  {
   "cell_type": "markdown",
   "id": "5cf2e425",
   "metadata": {},
   "source": [
    "### Task 9"
   ]
  },
  {
   "cell_type": "code",
   "execution_count": null,
   "id": "0ac11909",
   "metadata": {},
   "outputs": [],
   "source": []
  },
  {
   "cell_type": "markdown",
   "id": "8fdb2295",
   "metadata": {},
   "source": [
    "### Task 10"
   ]
  },
  {
   "cell_type": "code",
   "execution_count": null,
   "id": "d0d50eb7",
   "metadata": {},
   "outputs": [],
   "source": []
  },
  {
   "cell_type": "markdown",
   "id": "e390deb9",
   "metadata": {},
   "source": [
    "### Task 11"
   ]
  },
  {
   "cell_type": "code",
   "execution_count": null,
   "id": "63149cd8",
   "metadata": {},
   "outputs": [],
   "source": []
  },
  {
   "cell_type": "markdown",
   "id": "6c585285",
   "metadata": {},
   "source": [
    "### Misc/Exp Stuff"
   ]
  },
  {
   "cell_type": "code",
   "execution_count": null,
   "id": "b36468a7",
   "metadata": {},
   "outputs": [],
   "source": []
  },
  {
   "cell_type": "code",
   "execution_count": null,
   "id": "541fb43f",
   "metadata": {},
   "outputs": [],
   "source": []
  },
  {
   "cell_type": "code",
   "execution_count": null,
   "id": "bc4456ba",
   "metadata": {},
   "outputs": [],
   "source": []
  }
 ],
 "metadata": {
  "kernelspec": {
   "display_name": "Python 3 (ipykernel)",
   "language": "python",
   "name": "python3"
  },
  "language_info": {
   "codemirror_mode": {
    "name": "ipython",
    "version": 3
   },
   "file_extension": ".py",
   "mimetype": "text/x-python",
   "name": "python",
   "nbconvert_exporter": "python",
   "pygments_lexer": "ipython3",
   "version": "3.9.13"
  }
 },
 "nbformat": 4,
 "nbformat_minor": 5
}
